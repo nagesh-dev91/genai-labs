{
 "cells": [
  {
   "cell_type": "code",
   "execution_count": null,
   "id": "465d994d",
   "metadata": {},
   "outputs": [],
   "source": [
    "# Day 4 - Embeddings Demo\n",
    "# What: Generate embeddings and compare sentence similarity\n",
    "# Why: Exam covers embeddings under Core ML & AI Knowledge\n",
    "#pip install sentence-transformers scikit-learn numpy matplotlib\n",
    "\n",
    "\n",
    "from sentence_transformers import SentenceTransformer\n",
    "import numpy as np\n",
    "from sklearn.metrics.pairwise import cosine_similarity\n",
    "\n",
    "# Load a small, fast embedding model\n",
    "# all-MiniLM-L6-v2 = ~22M params, CPU-friendly\n",
    "model = SentenceTransformer(\"all-MiniLM-L6-v2\")\n",
    "\n",
    "# Sample sentences\n",
    "sentences = [\n",
    "    \"The cat is sitting on the mat.\",\n",
    "    \"A dog is playing in the park.\",\n",
    "    \"I love eating pizza on weekends.\",\n",
    "    \"The animal is resting indoors.\",\n",
    "    \"My favorite food is Italian pizza.\"\n",
    "]\n",
    "\n",
    "# Generate embeddings\n",
    "embeddings = model.encode(sentences)\n",
    "\n",
    "# Compute cosine similarity\n",
    "similarity_matrix = cosine_similarity(embeddings)\n",
    "\n",
    "# Print similarity matrix (rounded for clarity)\n",
    "print(\"Cosine Similarity Matrix:\\n\")\n",
    "print(np.round(similarity_matrix, 2))\n"
   ]
  }
 ],
 "metadata": {
  "language_info": {
   "name": "python"
  }
 },
 "nbformat": 4,
 "nbformat_minor": 5
}
